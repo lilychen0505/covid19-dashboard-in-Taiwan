{
 "cells": [
  {
   "cell_type": "code",
   "execution_count": null,
   "metadata": {},
   "outputs": [],
   "source": [
    "# 參考資料\n",
    "# 串API: https://jbprogramnotes.com/2021/04/%E4%BD%BF%E7%94%A8-python-%E5%B0%87%E8%B3%87%E6%96%99%E5%AF%AB%E5%85%A5-google-%E8%A9%A6%E7%AE%97%E8%A1%A8/\n",
    "# 匯入dataframe: https://github.com/robin900/gspread-dataframe"
   ]
  },
  {
   "cell_type": "code",
   "execution_count": 2,
   "metadata": {},
   "outputs": [],
   "source": [
    "import pandas as pd\n",
    "from pandas import json_normalize\n",
    "import pygsheets\n",
    "import gspread\n",
    "from oauth2client.service_account import ServiceAccountCredentials as SAC\n",
    "from gspread_dataframe import get_as_dataframe, set_with_dataframe\n",
    "import requests, bs4\n",
    "import json"
   ]
  },
  {
   "cell_type": "code",
   "execution_count": 3,
   "metadata": {},
   "outputs": [
    {
     "name": "stdout",
     "output_type": "stream",
     "text": [
      "{\"0\":{\"cases\":\"174,692,393\",\"deaths\":\"3,780,548\",\"cfr\":\"2.16%\",\"countries\":194}}\n"
     ]
    }
   ],
   "source": [
    "# sample dataframe\n",
    "url = \"https://covid19dashboard.cdc.gov.tw/dash2\"\n",
    "html = requests.get(url)\n",
    "objSoup = bs4.BeautifulSoup(html.text, 'lxml')\n",
    "print(objSoup.p.text)"
   ]
  },
  {
   "cell_type": "code",
   "execution_count": 4,
   "metadata": {},
   "outputs": [
    {
     "name": "stdout",
     "output_type": "stream",
     "text": [
      "{'0': {'cases': '174,692,393', 'deaths': '3,780,548', 'cfr': '2.16%', 'countries': 194}}\n"
     ]
    }
   ],
   "source": [
    "dict_item1 = json.loads(objSoup.p.text)\n",
    "print(dict_item1)"
   ]
  },
  {
   "cell_type": "code",
   "execution_count": 5,
   "metadata": {},
   "outputs": [
    {
     "data": {
      "text/html": [
       "<div>\n",
       "<style scoped>\n",
       "    .dataframe tbody tr th:only-of-type {\n",
       "        vertical-align: middle;\n",
       "    }\n",
       "\n",
       "    .dataframe tbody tr th {\n",
       "        vertical-align: top;\n",
       "    }\n",
       "\n",
       "    .dataframe thead th {\n",
       "        text-align: right;\n",
       "    }\n",
       "</style>\n",
       "<table border=\"1\" class=\"dataframe\">\n",
       "  <thead>\n",
       "    <tr style=\"text-align: right;\">\n",
       "      <th></th>\n",
       "      <th>cases</th>\n",
       "      <th>deaths</th>\n",
       "      <th>cfr</th>\n",
       "      <th>countries</th>\n",
       "    </tr>\n",
       "  </thead>\n",
       "  <tbody>\n",
       "    <tr>\n",
       "      <th>0</th>\n",
       "      <td>174,692,393</td>\n",
       "      <td>3,780,548</td>\n",
       "      <td>2.16%</td>\n",
       "      <td>194</td>\n",
       "    </tr>\n",
       "  </tbody>\n",
       "</table>\n",
       "</div>"
      ],
      "text/plain": [
       "         cases     deaths    cfr  countries\n",
       "0  174,692,393  3,780,548  2.16%        194"
      ]
     },
     "execution_count": 5,
     "metadata": {},
     "output_type": "execute_result"
    }
   ],
   "source": [
    "df = json_normalize(dict_item1['0']) #Results contain the required data\n",
    "df.head()"
   ]
  },
  {
   "cell_type": "code",
   "execution_count": 6,
   "metadata": {},
   "outputs": [],
   "source": [
    "#儲存資料\n",
    "import time \n",
    "timestr = time.strftime(\"%Y%m%d-%H%M%S\") \n",
    "df.to_csv('DATASHEETS_COVD19_3/COVID19_3_'+timestr+'.csv', encoding=\"utf_8_sig\")\n",
    "df.to_csv('DATASHEETS_COVD19_3/COVID19_3.csv', encoding=\"utf_8_sig\")"
   ]
  },
  {
   "cell_type": "code",
   "execution_count": 8,
   "metadata": {},
   "outputs": [],
   "source": [
    "# google sheets authentication\n",
    "Json = './covid19.json'\n",
    "Url = ['https://spreadsheets.google.com/feeds']"
   ]
  },
  {
   "cell_type": "code",
   "execution_count": 9,
   "metadata": {},
   "outputs": [],
   "source": [
    "# 連線到資料表\n",
    "Connect = SAC.from_json_keyfile_name(Json, Url)\n",
    "GoogleSheets = gspread.authorize(Connect)"
   ]
  },
  {
   "cell_type": "code",
   "execution_count": 10,
   "metadata": {},
   "outputs": [],
   "source": [
    "# 開啟資料表及工作表\n",
    "Sheet = GoogleSheets.open_by_key('1E9rOHb9KbtbzTmc6LijZ7DXB24a4-Fyes4QLweCKjqE')\n",
    "# Sheets = Sheet.sheet1"
   ]
  },
  {
   "cell_type": "code",
   "execution_count": 11,
   "metadata": {},
   "outputs": [
    {
     "name": "stdout",
     "output_type": "stream",
     "text": [
      "[<Worksheet '工作表1' id:0>]\n"
     ]
    }
   ],
   "source": [
    "# 查看此 GoogleSheet 內 Sheet 清單\n",
    "wks_list = Sheet.worksheets()\n",
    "print(wks_list)"
   ]
  },
  {
   "cell_type": "code",
   "execution_count": 12,
   "metadata": {},
   "outputs": [],
   "source": [
    "#選取by名稱\n",
    "worksheet = Sheet.sheet1"
   ]
  },
  {
   "cell_type": "code",
   "execution_count": 13,
   "metadata": {},
   "outputs": [
    {
     "name": "stdout",
     "output_type": "stream",
     "text": [
      "寫入成功\n"
     ]
    }
   ],
   "source": [
    "#寫入資料\n",
    "set_with_dataframe(worksheet, df)\n",
    "print(\"寫入成功\")"
   ]
  },
  {
   "cell_type": "code",
   "execution_count": null,
   "metadata": {},
   "outputs": [],
   "source": []
  }
 ],
 "metadata": {
  "kernelspec": {
   "display_name": "Python 3",
   "language": "python",
   "name": "python3"
  },
  "language_info": {
   "codemirror_mode": {
    "name": "ipython",
    "version": 3
   },
   "file_extension": ".py",
   "mimetype": "text/x-python",
   "name": "python",
   "nbconvert_exporter": "python",
   "pygments_lexer": "ipython3",
   "version": "3.7.6"
  }
 },
 "nbformat": 4,
 "nbformat_minor": 4
}
