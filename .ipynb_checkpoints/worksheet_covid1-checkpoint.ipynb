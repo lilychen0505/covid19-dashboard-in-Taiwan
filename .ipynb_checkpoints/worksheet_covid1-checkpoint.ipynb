{
 "cells": [
  {
   "cell_type": "code",
   "execution_count": null,
   "metadata": {},
   "outputs": [],
   "source": [
    "# 參考資料\n",
    "# 串API: https://jbprogramnotes.com/2021/04/%E4%BD%BF%E7%94%A8-python-%E5%B0%87%E8%B3%87%E6%96%99%E5%AF%AB%E5%85%A5-google-%E8%A9%A6%E7%AE%97%E8%A1%A8/\n",
    "# 匯入dataframe: https://github.com/robin900/gspread-dataframe"
   ]
  },
  {
   "cell_type": "code",
   "execution_count": 1,
   "metadata": {},
   "outputs": [],
   "source": [
    "import pandas as pd\n",
    "from pandas import json_normalize\n",
    "import pygsheets\n",
    "import gspread\n",
    "from oauth2client.service_account import ServiceAccountCredentials as SAC\n",
    "from gspread_dataframe import get_as_dataframe, set_with_dataframe\n",
    "import requests, bs4\n",
    "import json"
   ]
  },
  {
   "cell_type": "code",
   "execution_count": 42,
   "metadata": {},
   "outputs": [
    {
     "name": "stdout",
     "output_type": "stream",
     "text": [
      "{\"0\":{\"確診\":\"12,222\",\"解除隔離\":1133,\"死亡\":361,\"送驗\":\"769,990\",\"排除\":\"746,817\",\"昨日確診\":275,\"昨日排除\":\"29,741\",\"昨日送驗\":\"30,228\"}}\n"
     ]
    }
   ],
   "source": [
    "# sample dataframe\n",
    "url = \"https://covid19dashboard.cdc.gov.tw/dash3\"\n",
    "html = requests.get(url)\n",
    "objSoup = bs4.BeautifulSoup(html.text, 'lxml')\n",
    "print(objSoup.p.text)"
   ]
  },
  {
   "cell_type": "code",
   "execution_count": 43,
   "metadata": {},
   "outputs": [
    {
     "name": "stdout",
     "output_type": "stream",
     "text": [
      "{'0': {'確診': '12,222', '解除隔離': 1133, '死亡': 361, '送驗': '769,990', '排除': '746,817', '昨日確診': 275, '昨日排除': '29,741', '昨日送驗': '30,228'}}\n"
     ]
    }
   ],
   "source": [
    "dict_item1 = json.loads(objSoup.p.text)\n",
    "print(dict_item1)"
   ]
  },
  {
   "cell_type": "code",
   "execution_count": 55,
   "metadata": {},
   "outputs": [
    {
     "data": {
      "text/html": [
       "<div>\n",
       "<style scoped>\n",
       "    .dataframe tbody tr th:only-of-type {\n",
       "        vertical-align: middle;\n",
       "    }\n",
       "\n",
       "    .dataframe tbody tr th {\n",
       "        vertical-align: top;\n",
       "    }\n",
       "\n",
       "    .dataframe thead th {\n",
       "        text-align: right;\n",
       "    }\n",
       "</style>\n",
       "<table border=\"1\" class=\"dataframe\">\n",
       "  <thead>\n",
       "    <tr style=\"text-align: right;\">\n",
       "      <th></th>\n",
       "      <th>確診</th>\n",
       "      <th>解除隔離</th>\n",
       "      <th>死亡</th>\n",
       "      <th>送驗</th>\n",
       "      <th>排除</th>\n",
       "      <th>昨日確診</th>\n",
       "      <th>昨日排除</th>\n",
       "      <th>昨日送驗</th>\n",
       "      <th>死亡率</th>\n",
       "    </tr>\n",
       "  </thead>\n",
       "  <tbody>\n",
       "    <tr>\n",
       "      <th>0</th>\n",
       "      <td>12222</td>\n",
       "      <td>1133</td>\n",
       "      <td>361</td>\n",
       "      <td>769990</td>\n",
       "      <td>746817</td>\n",
       "      <td>275</td>\n",
       "      <td>29741</td>\n",
       "      <td>30228</td>\n",
       "      <td>0.029537</td>\n",
       "    </tr>\n",
       "  </tbody>\n",
       "</table>\n",
       "</div>"
      ],
      "text/plain": [
       "      確診  解除隔離   死亡      送驗      排除  昨日確診   昨日排除   昨日送驗       死亡率\n",
       "0  12222  1133  361  769990  746817   275  29741  30228  0.029537"
      ]
     },
     "execution_count": 55,
     "metadata": {},
     "output_type": "execute_result"
    }
   ],
   "source": [
    "df = json_normalize(dict_item1['0']) #Results contain the required data\n",
    "df['解除隔離'] = int(str(df.at[0,'解除隔離']).replace(\",\",\"\"))\n",
    "df['死亡率'] =df.at[0,'死亡']/int(df.at[0,'確診'].replace(\",\",\"\"))\n",
    "df['確診'] = int(df.at[0,'確診'].replace(\",\",\"\"))\n",
    "df['送驗'] = int(df.at[0,'送驗'].replace(\",\",\"\"))\n",
    "df['排除'] = int(df.at[0,'排除'].replace(\",\",\"\"))\n",
    "df['昨日排除'] = int(df.at[0,'昨日排除'].replace(\",\",\"\"))\n",
    "df['昨日送驗'] = int(df.at[0,'昨日送驗'].replace(\",\",\"\"))\n",
    "df.head()"
   ]
  },
  {
   "cell_type": "code",
   "execution_count": 61,
   "metadata": {},
   "outputs": [],
   "source": [
    "df = json_normalize(dict_item1['0']) #Results contain the required data\n",
    "df\n"
   ]
  },
  {
   "cell_type": "code",
   "execution_count": 38,
   "metadata": {},
   "outputs": [
    {
     "data": {
      "text/html": [
       "<div>\n",
       "<style scoped>\n",
       "    .dataframe tbody tr th:only-of-type {\n",
       "        vertical-align: middle;\n",
       "    }\n",
       "\n",
       "    .dataframe tbody tr th {\n",
       "        vertical-align: top;\n",
       "    }\n",
       "\n",
       "    .dataframe thead th {\n",
       "        text-align: right;\n",
       "    }\n",
       "</style>\n",
       "<table border=\"1\" class=\"dataframe\">\n",
       "  <thead>\n",
       "    <tr style=\"text-align: right;\">\n",
       "      <th></th>\n",
       "      <th>確診</th>\n",
       "      <th>解除隔離</th>\n",
       "      <th>死亡</th>\n",
       "      <th>送驗</th>\n",
       "      <th>排除</th>\n",
       "      <th>昨日確診</th>\n",
       "      <th>昨日排除</th>\n",
       "      <th>昨日送驗</th>\n",
       "      <th>死亡率</th>\n",
       "    </tr>\n",
       "  </thead>\n",
       "  <tbody>\n",
       "    <tr>\n",
       "      <th>0</th>\n",
       "      <td>11968</td>\n",
       "      <td>1133</td>\n",
       "      <td>333</td>\n",
       "      <td>739818</td>\n",
       "      <td>717076</td>\n",
       "      <td>219</td>\n",
       "      <td>41240</td>\n",
       "      <td>41662</td>\n",
       "      <td>0.027824</td>\n",
       "    </tr>\n",
       "  </tbody>\n",
       "</table>\n",
       "</div>"
      ],
      "text/plain": [
       "      確診  解除隔離   死亡      送驗      排除  昨日確診   昨日排除   昨日送驗       死亡率\n",
       "0  11968  1133  333  739818  717076   219  41240  41662  0.027824"
      ]
     },
     "execution_count": 38,
     "metadata": {},
     "output_type": "execute_result"
    }
   ],
   "source": [
    "#取得昨日資料\n",
    "\n",
    "from datetime import timedelta, datetime\n",
    "yesterday = datetime.today() + timedelta(-1)\n",
    "timestr_yesterday = yesterday.strftime('%Y%m%d')\n",
    "df2 = pd.read_csv('DATASHEETS_COVD19_1/COVID19_1_'+timestr_yesterday+'.csv', index_col=0, thousands=',')\n",
    "df2"
   ]
  },
  {
   "cell_type": "code",
   "execution_count": 34,
   "metadata": {},
   "outputs": [
    {
     "data": {
      "text/html": [
       "<div>\n",
       "<style scoped>\n",
       "    .dataframe tbody tr th:only-of-type {\n",
       "        vertical-align: middle;\n",
       "    }\n",
       "\n",
       "    .dataframe tbody tr th {\n",
       "        vertical-align: top;\n",
       "    }\n",
       "\n",
       "    .dataframe thead th {\n",
       "        text-align: right;\n",
       "    }\n",
       "</style>\n",
       "<table border=\"1\" class=\"dataframe\">\n",
       "  <thead>\n",
       "    <tr style=\"text-align: right;\">\n",
       "      <th></th>\n",
       "      <th>確診</th>\n",
       "      <th>解除隔離</th>\n",
       "      <th>死亡</th>\n",
       "      <th>送驗</th>\n",
       "      <th>排除</th>\n",
       "      <th>昨日確診</th>\n",
       "      <th>昨日排除</th>\n",
       "      <th>昨日送驗</th>\n",
       "      <th>死亡率</th>\n",
       "    </tr>\n",
       "  </thead>\n",
       "  <tbody>\n",
       "    <tr>\n",
       "      <th>0</th>\n",
       "      <td>12,222</td>\n",
       "      <td>1133</td>\n",
       "      <td>361</td>\n",
       "      <td>769,990</td>\n",
       "      <td>746,817</td>\n",
       "      <td>275</td>\n",
       "      <td>29,741</td>\n",
       "      <td>30,228</td>\n",
       "      <td>0.029537</td>\n",
       "    </tr>\n",
       "    <tr>\n",
       "      <th>1</th>\n",
       "      <td>11,968</td>\n",
       "      <td>1133</td>\n",
       "      <td>333</td>\n",
       "      <td>739,818</td>\n",
       "      <td>717,076</td>\n",
       "      <td>219</td>\n",
       "      <td>41,240</td>\n",
       "      <td>41,662</td>\n",
       "      <td>0.027824</td>\n",
       "    </tr>\n",
       "  </tbody>\n",
       "</table>\n",
       "</div>"
      ],
      "text/plain": [
       "       確診  解除隔離   死亡       送驗       排除  昨日確診    昨日排除    昨日送驗       死亡率\n",
       "0  12,222  1133  361  769,990  746,817   275  29,741  30,228  0.029537\n",
       "1  11,968  1133  333  739,818  717,076   219  41,240  41,662  0.027824"
      ]
     },
     "execution_count": 34,
     "metadata": {},
     "output_type": "execute_result"
    }
   ],
   "source": [
    "new_pd = pd.concat([df, df2], ignore_index=True)\n",
    "new_pd"
   ]
  },
  {
   "cell_type": "code",
   "execution_count": 57,
   "metadata": {},
   "outputs": [
    {
     "data": {
      "text/html": [
       "<div>\n",
       "<style scoped>\n",
       "    .dataframe tbody tr th:only-of-type {\n",
       "        vertical-align: middle;\n",
       "    }\n",
       "\n",
       "    .dataframe tbody tr th {\n",
       "        vertical-align: top;\n",
       "    }\n",
       "\n",
       "    .dataframe thead th {\n",
       "        text-align: right;\n",
       "    }\n",
       "</style>\n",
       "<table border=\"1\" class=\"dataframe\">\n",
       "  <thead>\n",
       "    <tr style=\"text-align: right;\">\n",
       "      <th></th>\n",
       "      <th>確診</th>\n",
       "      <th>解除隔離</th>\n",
       "      <th>死亡</th>\n",
       "      <th>送驗</th>\n",
       "      <th>排除</th>\n",
       "      <th>昨日確診</th>\n",
       "      <th>昨日排除</th>\n",
       "      <th>昨日送驗</th>\n",
       "      <th>死亡率</th>\n",
       "    </tr>\n",
       "  </thead>\n",
       "  <tbody>\n",
       "    <tr>\n",
       "      <th>0</th>\n",
       "      <td>254</td>\n",
       "      <td>0</td>\n",
       "      <td>28</td>\n",
       "      <td>30172</td>\n",
       "      <td>29741</td>\n",
       "      <td>56</td>\n",
       "      <td>-11499</td>\n",
       "      <td>-11434</td>\n",
       "      <td>0.001713</td>\n",
       "    </tr>\n",
       "  </tbody>\n",
       "</table>\n",
       "</div>"
      ],
      "text/plain": [
       "    確診  解除隔離  死亡     送驗     排除  昨日確診   昨日排除   昨日送驗       死亡率\n",
       "0  254     0  28  30172  29741    56 -11499 -11434  0.001713"
      ]
     },
     "execution_count": 57,
     "metadata": {},
     "output_type": "execute_result"
    }
   ],
   "source": [
    "df.subtract(df2)"
   ]
  },
  {
   "cell_type": "code",
   "execution_count": 6,
   "metadata": {},
   "outputs": [],
   "source": [
    "#儲存資料\n",
    "import time\n",
    "timestr = time.strftime(\"%Y%m%d\") \n",
    "df.to_csv('DATASHEETS_COVD19_1/COVID19_1_'+timestr+'.csv', encoding=\"utf_8_sig\")\n",
    "df.to_csv('DATASHEETS_COVD19_1/COVID19_1.csv', encoding=\"utf_8_sig\")"
   ]
  },
  {
   "cell_type": "code",
   "execution_count": 7,
   "metadata": {},
   "outputs": [],
   "source": [
    "# google sheets authentication\n",
    "Json = './covid19.json'\n",
    "Url = ['https://spreadsheets.google.com/feeds']"
   ]
  },
  {
   "cell_type": "code",
   "execution_count": 8,
   "metadata": {},
   "outputs": [],
   "source": [
    "# 連線到資料表\n",
    "Connect = SAC.from_json_keyfile_name(Json, Url)\n",
    "GoogleSheets = gspread.authorize(Connect)"
   ]
  },
  {
   "cell_type": "code",
   "execution_count": 9,
   "metadata": {},
   "outputs": [],
   "source": [
    "# 開啟資料表及工作表\n",
    "Sheet = GoogleSheets.open_by_key('1ukNfvu7G5OQdKNZpXmyN0XHctwvsByjEbvh5WlUMynY')\n",
    "# Sheets = Sheet.sheet1"
   ]
  },
  {
   "cell_type": "code",
   "execution_count": 10,
   "metadata": {},
   "outputs": [
    {
     "name": "stdout",
     "output_type": "stream",
     "text": [
      "[<Worksheet '工作表1' id:0>]\n"
     ]
    }
   ],
   "source": [
    "# 查看此 GoogleSheet 內 Sheet 清單\n",
    "wks_list = Sheet.worksheets()\n",
    "print(wks_list)"
   ]
  },
  {
   "cell_type": "code",
   "execution_count": 11,
   "metadata": {},
   "outputs": [],
   "source": [
    "#選取by名稱\n",
    "worksheet = Sheet.sheet1"
   ]
  },
  {
   "cell_type": "code",
   "execution_count": 12,
   "metadata": {},
   "outputs": [
    {
     "name": "stdout",
     "output_type": "stream",
     "text": [
      "寫入成功\n"
     ]
    }
   ],
   "source": [
    "#寫入資料\n",
    "set_with_dataframe(worksheet, df)\n",
    "print(\"寫入成功\")"
   ]
  },
  {
   "cell_type": "code",
   "execution_count": null,
   "metadata": {},
   "outputs": [],
   "source": []
  }
 ],
 "metadata": {
  "kernelspec": {
   "display_name": "Python 3",
   "language": "python",
   "name": "python3"
  },
  "language_info": {
   "codemirror_mode": {
    "name": "ipython",
    "version": 3
   },
   "file_extension": ".py",
   "mimetype": "text/x-python",
   "name": "python",
   "nbconvert_exporter": "python",
   "pygments_lexer": "ipython3",
   "version": "3.7.6"
  }
 },
 "nbformat": 4,
 "nbformat_minor": 4
}
