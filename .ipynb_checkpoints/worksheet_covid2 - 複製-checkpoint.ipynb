{
 "cells": [
  {
   "cell_type": "code",
   "execution_count": 1,
   "id": "896c8082",
   "metadata": {},
   "outputs": [],
   "source": [
    "import pandas as pd\n",
    "from pandas import json_normalize\n",
    "import time\n",
    "import requests, bs4\n",
    "import json\n",
    "from bs4 import BeautifulSoup\n",
    "import pygsheets\n",
    "import gspread\n",
    "from oauth2client.service_account import ServiceAccountCredentials as SAC\n",
    "from gspread_dataframe import get_as_dataframe, set_with_dataframe"
   ]
  },
  {
   "cell_type": "code",
   "execution_count": null,
   "id": "b0cdd2c6",
   "metadata": {},
   "outputs": [],
   "source": [
    "url = \"https://nidss.cdc.gov.tw/nndss/DiseaseMap?id=19CoV\"\n",
    "html = requests.get(url)\n",
    "objSoup = bs4.BeautifulSoup(html.text, 'lxml')\n",
    "print(objSoup)"
   ]
  },
  {
   "cell_type": "code",
   "execution_count": 9,
   "id": "9675e595",
   "metadata": {},
   "outputs": [
    {
     "name": "stdout",
     "output_type": "stream",
     "text": [
      "<script>\r\n",
      "                                            var hmJson = [];\r\n",
      "                                            let appendStr = '';\r\n",
      "\r\n",
      "                                                \r\n",
      "                                                hmJson.push({\"type\":\"\",\"shapefile\":\"../Maps/Ch/new/全國-GeoJSON.geojson\",\"series\":[{\"code\":\"新北市\",\"value\":5013},{\"code\":\"台北市\",\"value\":3638},{\"code\":\"桃園市\",\"value\":484},{\"code\":\"苗栗縣\",\"value\":312},{\"code\":\"彰化縣\",\"value\":220},{\"code\":\"基隆市\",\"value\":193},{\"code\":\"台中市\",\"value\":165},{\"code\":\"宜蘭縣\",\"value\":84},{\"code\":\"高雄市\",\"value\":61},{\"code\":\"花蓮縣\",\"value\":38},{\"code\":\"台南市\",\"value\":36},{\"code\":\"新竹縣\",\"value\":36},{\"code\":\"屏東縣\",\"value\":33},{\"code\":\"新竹市\",\"value\":27},{\"code\":\"南投縣\",\"value\":25},{\"code\":\"台東縣\",\"value\":21},{\"code\":\"嘉義縣\",\"value\":17},{\"code\":\"雲林縣\",\"value\":16},{\"code\":\"嘉義市\",\"value\":8},{\"code\":\"澎湖縣\",\"value\":5},{\"code\":\"連江縣\",\"value\":4},{\"code\":\"金門縣\",\"value\":0}],\"properties\":\"CITYNAME\",\"div_id\":\"container1\",\"drill_down\":true,\"table_id\":\"tableStatisticsAppend\",\"table_h1\":\"縣市別\",\"table_h2\":\"病例數\",\"table_f1\":\"總計\",\"mapUrl\":\"../Maps/Ch/new/city/\",\"ajax_url\":\"DiseaseMap_Pro\",\"ajax_data\":\"pty_Q=N&pty_disease=19CoV&position=1&pty_period=y&pty_y_s=2021&pty_y_e=2021&pty_m_s=1&pty_m_e=6&pty_d_s=1&pty_d_e=9&pty_w_s=1&pty_w_e=23&pty_sickclass_value=determined_cnt&pty_immigration=0&pty_date_type=3&pty_level=area\",\"ajax_properties\":\"TOWNNAME\",\"plotTitle\":\"人\",\"plotTitle1\":\"\",\"toolTip\":\"\",\"toolTip1\":\"\",\"mapTitle\":\"全國 嚴重特殊傳染性肺炎 本土病例 地理分佈 (2021年-2021年)\",\"valueDecimals\":0,\"dataClasses\":[{\"from\":0,\"to\":0},{\"from\":1,\"to\":18},{\"from\":19,\"to\":36},{\"from\":37,\"to\":186},{\"from\":187,\"to\":5013}],\"regionName\":\"全台灣\",\"subtitle_text\":\"[發病日 2021/01/01-2021/12/31]\",\"subtitle_y\":35,\"legend_enabled\":true,\"legend_title\":\"\",\"exporting\":[\"地區時間統計表(ods),ExcelByArea\",\"近兩年地區年齡性別統計表-每週(csv),OpenData_Weekly\",\"近兩年地區年齡性別統計表-每月(csv),OpenData_Monthly\"],\"motion_labels\":\"\",\"world_series\":\"\",\"stack_world\":\"\",\"credits_text\":\"Taiwan CDC 20212021/06/09 04:48 AM\",\"credits_enabled\":true});\r\n",
      "                                                appendStr += '<div class=\"diseaseMapChart\" id=\"container1\"></div>';\r\n",
      "                                                \r\n",
      "                                            $(document).ready(function () {\r\n",
      "                                                $(\"#appendContainer\").append(appendStr);\r\n",
      "                                                hmJson.forEach(function (item, index) {\r\n",
      "                                                    RouteMapCharts(item);\r\n",
      "                                                });\r\n",
      "                                            });\r\n",
      "                                        </script>\n"
     ]
    }
   ],
   "source": [
    "if objSoup !=None:\n",
    "    item1 = objSoup.find(class_=\"map-chart\").script\n",
    "    item1 = str(item1)\n",
    "print(item1)"
   ]
  },
  {
   "cell_type": "code",
   "execution_count": 21,
   "id": "52fdaa14",
   "metadata": {},
   "outputs": [
    {
     "name": "stdout",
     "output_type": "stream",
     "text": [
      "{\"code\":\"新北市\",\"value\":5013},{\"code\":\"台北市\",\"value\":3638},{\"code\":\"桃園市\",\"value\":484},{\"code\":\"苗栗縣\",\"value\":312},{\"code\":\"彰化縣\",\"value\":220},{\"code\":\"基隆市\",\"value\":193},{\"code\":\"台中市\",\"value\":165},{\"code\":\"宜蘭縣\",\"value\":84},{\"code\":\"高雄市\",\"value\":61},{\"code\":\"花蓮縣\",\"value\":38},{\"code\":\"台南市\",\"value\":36},{\"code\":\"新竹縣\",\"value\":36},{\"code\":\"屏東縣\",\"value\":33},{\"code\":\"新竹市\",\"value\":27},{\"code\":\"南投縣\",\"value\":25},{\"code\":\"台東縣\",\"value\":21},{\"code\":\"嘉義縣\",\"value\":17},{\"code\":\"雲林縣\",\"value\":16},{\"code\":\"嘉義市\",\"value\":8},{\"code\":\"澎湖縣\",\"value\":5},{\"code\":\"連江縣\",\"value\":4},{\"code\":\"金門縣\",\"value\":0}\n"
     ]
    }
   ],
   "source": [
    "item1 = items1[items1.index('\"series\":')+10:items1.index('],\"properties\"')]\n",
    "print(item1)"
   ]
  },
  {
   "cell_type": "code",
   "execution_count": 29,
   "id": "309137b7",
   "metadata": {},
   "outputs": [
    {
     "name": "stdout",
     "output_type": "stream",
     "text": [
      "{'series': [{'code': '新北市', 'value': 5013}, {'code': '台北市', 'value': 3638}, {'code': '桃園市', 'value': 484}, {'code': '苗栗縣', 'value': 312}, {'code': '彰化縣', 'value': 220}, {'code': '基隆市', 'value': 193}, {'code': '台中市', 'value': 165}, {'code': '宜蘭縣', 'value': 84}, {'code': '高雄市', 'value': 61}, {'code': '花蓮縣', 'value': 38}, {'code': '台南市', 'value': 36}, {'code': '新竹縣', 'value': 36}, {'code': '屏東縣', 'value': 33}, {'code': '新竹市', 'value': 27}, {'code': '南投縣', 'value': 25}, {'code': '台東縣', 'value': 21}, {'code': '嘉義縣', 'value': 17}, {'code': '雲林縣', 'value': 16}, {'code': '嘉義市', 'value': 8}, {'code': '澎湖縣', 'value': 5}, {'code': '連江縣', 'value': 4}, {'code': '金門縣', 'value': 0}]}\n"
     ]
    },
    {
     "data": {
      "text/plain": [
       "dict"
      ]
     },
     "execution_count": 29,
     "metadata": {},
     "output_type": "execute_result"
    }
   ],
   "source": [
    "dict_item1 = json.loads(item1)\n",
    "print(dict_item1)\n",
    "type(dict_item1)"
   ]
  },
  {
   "cell_type": "code",
   "execution_count": 40,
   "id": "7c838d51",
   "metadata": {},
   "outputs": [
    {
     "data": {
      "text/plain": [
       "[{'code': '新北市', 'value': 5013},\n",
       " {'code': '台北市', 'value': 3638},\n",
       " {'code': '桃園市', 'value': 484},\n",
       " {'code': '苗栗縣', 'value': 312},\n",
       " {'code': '彰化縣', 'value': 220},\n",
       " {'code': '基隆市', 'value': 193},\n",
       " {'code': '台中市', 'value': 165},\n",
       " {'code': '宜蘭縣', 'value': 84},\n",
       " {'code': '高雄市', 'value': 61},\n",
       " {'code': '花蓮縣', 'value': 38},\n",
       " {'code': '台南市', 'value': 36},\n",
       " {'code': '新竹縣', 'value': 36},\n",
       " {'code': '屏東縣', 'value': 33},\n",
       " {'code': '新竹市', 'value': 27},\n",
       " {'code': '南投縣', 'value': 25},\n",
       " {'code': '台東縣', 'value': 21},\n",
       " {'code': '嘉義縣', 'value': 17},\n",
       " {'code': '雲林縣', 'value': 16},\n",
       " {'code': '嘉義市', 'value': 8},\n",
       " {'code': '澎湖縣', 'value': 5},\n",
       " {'code': '連江縣', 'value': 4},\n",
       " {'code': '金門縣', 'value': 0}]"
      ]
     },
     "execution_count": 40,
     "metadata": {},
     "output_type": "execute_result"
    }
   ],
   "source": [
    "dict_item1['series']"
   ]
  },
  {
   "cell_type": "code",
   "execution_count": 47,
   "id": "10702a72",
   "metadata": {},
   "outputs": [
    {
     "data": {
      "text/html": [
       "<div>\n",
       "<style scoped>\n",
       "    .dataframe tbody tr th:only-of-type {\n",
       "        vertical-align: middle;\n",
       "    }\n",
       "\n",
       "    .dataframe tbody tr th {\n",
       "        vertical-align: top;\n",
       "    }\n",
       "\n",
       "    .dataframe thead th {\n",
       "        text-align: right;\n",
       "    }\n",
       "</style>\n",
       "<table border=\"1\" class=\"dataframe\">\n",
       "  <thead>\n",
       "    <tr style=\"text-align: right;\">\n",
       "      <th></th>\n",
       "      <th>地區</th>\n",
       "      <th>累積確診人數</th>\n",
       "    </tr>\n",
       "  </thead>\n",
       "  <tbody>\n",
       "    <tr>\n",
       "      <th>0</th>\n",
       "      <td>新北市</td>\n",
       "      <td>5013</td>\n",
       "    </tr>\n",
       "    <tr>\n",
       "      <th>1</th>\n",
       "      <td>台北市</td>\n",
       "      <td>3638</td>\n",
       "    </tr>\n",
       "    <tr>\n",
       "      <th>2</th>\n",
       "      <td>桃園市</td>\n",
       "      <td>484</td>\n",
       "    </tr>\n",
       "    <tr>\n",
       "      <th>3</th>\n",
       "      <td>苗栗縣</td>\n",
       "      <td>312</td>\n",
       "    </tr>\n",
       "    <tr>\n",
       "      <th>4</th>\n",
       "      <td>彰化縣</td>\n",
       "      <td>220</td>\n",
       "    </tr>\n",
       "  </tbody>\n",
       "</table>\n",
       "</div>"
      ],
      "text/plain": [
       "    地區  累積確診人數\n",
       "0  新北市    5013\n",
       "1  台北市    3638\n",
       "2  桃園市     484\n",
       "3  苗栗縣     312\n",
       "4  彰化縣     220"
      ]
     },
     "execution_count": 47,
     "metadata": {},
     "output_type": "execute_result"
    }
   ],
   "source": [
    "df = json_normalize(dict_item1['series']) #Results contain the required data\n",
    "df.columns=['地區', '累積確診人數']\n",
    "df.head()"
   ]
  },
  {
   "cell_type": "code",
   "execution_count": 96,
   "id": "272d7f28",
   "metadata": {},
   "outputs": [],
   "source": [
    "#儲存資料\n",
    "import time \n",
    "timestr = time.strftime(\"%Y%m%d-%H%M%S\") \n",
    "df.to_csv('DATASHEETS_COVD19_2/COVID19_2_'+timestr+'.csv', encoding=\"utf_8_sig\")\n",
    "df.to_csv('DATASHEETS_COVD19_2/COVID19_2.csv', encoding=\"utf_8_sig\")"
   ]
  },
  {
   "cell_type": "code",
   "execution_count": 77,
   "id": "3150c6a7",
   "metadata": {},
   "outputs": [],
   "source": [
    "# google sheets authentication\n",
    "Json = './covid19.json'\n",
    "Url = ['https://spreadsheets.google.com/feeds']"
   ]
  },
  {
   "cell_type": "code",
   "execution_count": 78,
   "id": "61a82d9b",
   "metadata": {},
   "outputs": [],
   "source": [
    "# 連線到資料表\n",
    "Connect = SAC.from_json_keyfile_name(Json, Url)\n",
    "GoogleSheets = gspread.authorize(Connect)"
   ]
  },
  {
   "cell_type": "code",
   "execution_count": 81,
   "id": "487bdf13",
   "metadata": {},
   "outputs": [],
   "source": [
    "# 開啟資料表及工作表\n",
    "Sheet = GoogleSheets.open_by_key('12ba57CqIauuqcYV93hUxwjmU7Wk_CoSLFytEuiuS1IQ')\n",
    "# Sheets = Sheet.sheet1"
   ]
  },
  {
   "cell_type": "code",
   "execution_count": 85,
   "id": "40583486",
   "metadata": {},
   "outputs": [
    {
     "name": "stdout",
     "output_type": "stream",
     "text": [
      "[<Worksheet '工作表1' id:0>]\n"
     ]
    }
   ],
   "source": [
    "# 查看此 GoogleSheet 內 Sheet 清單\n",
    "wks_list = Sheet.worksheets()\n",
    "print(wks_list)"
   ]
  },
  {
   "cell_type": "code",
   "execution_count": 86,
   "id": "8a7af799",
   "metadata": {},
   "outputs": [
    {
     "name": "stdout",
     "output_type": "stream",
     "text": [
      "[<Worksheet '工作表1' id:0>]\n"
     ]
    }
   ],
   "source": [
    "# 查看此 GoogleSheet 內 Sheet 清單\n",
    "wks_list = Sheet.worksheets()\n",
    "print(wks_list)"
   ]
  },
  {
   "cell_type": "code",
   "execution_count": 90,
   "id": "690ad442",
   "metadata": {},
   "outputs": [
    {
     "name": "stdout",
     "output_type": "stream",
     "text": [
      "寫入成功\n"
     ]
    }
   ],
   "source": [
    "#選取by名稱\n",
    "worksheet = Sheet.sheet1\n",
    "#寫入資料\n",
    "set_with_dataframe(worksheet, df)\n",
    "print(\"寫入成功\")"
   ]
  },
  {
   "cell_type": "code",
   "execution_count": null,
   "id": "ade86ffe",
   "metadata": {},
   "outputs": [],
   "source": []
  }
 ],
 "metadata": {
  "kernelspec": {
   "display_name": "Python 3",
   "language": "python",
   "name": "python3"
  },
  "language_info": {
   "codemirror_mode": {
    "name": "ipython",
    "version": 3
   },
   "file_extension": ".py",
   "mimetype": "text/x-python",
   "name": "python",
   "nbconvert_exporter": "python",
   "pygments_lexer": "ipython3",
   "version": "3.7.6"
  }
 },
 "nbformat": 4,
 "nbformat_minor": 5
}
