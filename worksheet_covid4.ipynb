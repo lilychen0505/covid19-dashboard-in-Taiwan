{
 "cells": [
  {
   "cell_type": "code",
   "execution_count": 2,
   "id": "896c8082",
   "metadata": {},
   "outputs": [],
   "source": [
    "import pandas as pd\n",
    "from pandas import json_normalize\n",
    "import time\n",
    "import json\n",
    "import pygsheets\n",
    "import gspread\n",
    "from oauth2client.service_account import ServiceAccountCredentials as SAC\n",
    "from gspread_dataframe import get_as_dataframe, set_with_dataframe"
   ]
  },
  {
   "cell_type": "code",
   "execution_count": 9,
   "id": "49344002",
   "metadata": {},
   "outputs": [
    {
     "name": "stdout",
     "output_type": "stream",
     "text": [
      "   FIPS Admin2 Province_State Country_Region          Last_Update       Lat  \\\n",
      "0   NaN    NaN            NaN    Afghanistan  2021-06-12 04:22:22  33.93911   \n",
      "1   NaN    NaN            NaN        Albania  2021-06-12 04:22:22  41.15330   \n",
      "2   NaN    NaN            NaN        Algeria  2021-06-12 04:22:22  28.03390   \n",
      "3   NaN    NaN            NaN        Andorra  2021-06-12 04:22:22  42.50630   \n",
      "4   NaN    NaN            NaN         Angola  2021-06-12 04:22:22 -11.20270   \n",
      "\n",
      "       Long_  Confirmed  Deaths  Recovered   Active Combined_Key  \\\n",
      "0  67.709953      87716    3412    60598.0  23706.0  Afghanistan   \n",
      "1  20.168300     132437    2453   129807.0    177.0      Albania   \n",
      "2   1.659600     132727    3560    92384.0  36783.0      Algeria   \n",
      "3   1.521800      13813     127    13591.0     95.0      Andorra   \n",
      "4  17.873900      36455     819    30101.0   5535.0       Angola   \n",
      "\n",
      "   Incident_Rate  Case_Fatality_Ratio  \n",
      "0     225.326838             3.889826  \n",
      "1    4602.022378             1.852201  \n",
      "2     302.676951             2.682197  \n",
      "3   17877.434802             0.919424  \n",
      "4     110.919195             2.246605  \n"
     ]
    }
   ],
   "source": [
    "from datetime import timedelta, datetime\n",
    "yesterday = datetime.today() + timedelta(-1)\n",
    "timestr_yesterday = yesterday.strftime(\"%m-%d-%Y\")\n",
    "url = \"https://raw.githubusercontent.com/CSSEGISandData/COVID-19/master/csse_covid_19_data/csse_covid_19_daily_reports/\"+timestr_yesterday+\".csv\"\n",
    "df = pd.read_csv(url)\n",
    "print(df.head())"
   ]
  },
  {
   "cell_type": "code",
   "execution_count": 17,
   "id": "7d374592",
   "metadata": {},
   "outputs": [],
   "source": [
    "df = df[df['Country_Region']=='Taiwan*']"
   ]
  },
  {
   "cell_type": "code",
   "execution_count": 11,
   "id": "9675e595",
   "metadata": {},
   "outputs": [],
   "source": [
    "#儲存資料\n",
    "import time\n",
    "timestr = time.strftime(\"%Y%m%d\") \n",
    "df.to_csv('DATASHEETS_COVD19_4/COVID19_4_'+timestr+'.csv', encoding=\"utf_8_sig\")"
   ]
  },
  {
   "cell_type": "code",
   "execution_count": 12,
   "id": "11aecc13",
   "metadata": {},
   "outputs": [],
   "source": [
    "# google sheets authentication\n",
    "Json = './covid19.json'\n",
    "Url = ['https://spreadsheets.google.com/feeds']"
   ]
  },
  {
   "cell_type": "code",
   "execution_count": 13,
   "id": "dec5aee3",
   "metadata": {},
   "outputs": [],
   "source": [
    "# 連線到資料表\n",
    "Connect = SAC.from_json_keyfile_name(Json, Url)\n",
    "GoogleSheets = gspread.authorize(Connect)"
   ]
  },
  {
   "cell_type": "code",
   "execution_count": 14,
   "id": "ae335a7a",
   "metadata": {},
   "outputs": [],
   "source": [
    "# 開啟資料表及工作表\n",
    "Sheet = GoogleSheets.open_by_key('1Ys1gcy4fOE_ZlXcfiWmpvohGotTwSO6YnClXF_I1t1Y')\n",
    "# Sheets = Sheet.sheet1"
   ]
  },
  {
   "cell_type": "code",
   "execution_count": 15,
   "id": "0bfc12fa",
   "metadata": {},
   "outputs": [
    {
     "name": "stdout",
     "output_type": "stream",
     "text": [
      "[<Worksheet '工作表1' id:0>]\n"
     ]
    }
   ],
   "source": [
    "# 查看此 GoogleSheet 內 Sheet 清單\n",
    "wks_list = Sheet.worksheets()\n",
    "print(wks_list)"
   ]
  },
  {
   "cell_type": "code",
   "execution_count": 19,
   "id": "998498ff",
   "metadata": {},
   "outputs": [
    {
     "name": "stdout",
     "output_type": "stream",
     "text": [
      "寫入成功\n"
     ]
    }
   ],
   "source": [
    "#選取by名稱\n",
    "worksheet = Sheet.sheet1\n",
    "#寫入資料\n",
    "set_with_dataframe(worksheet, df)\n",
    "print(\"寫入成功\")"
   ]
  },
  {
   "cell_type": "code",
   "execution_count": null,
   "id": "638aa85b",
   "metadata": {},
   "outputs": [],
   "source": []
  }
 ],
 "metadata": {
  "kernelspec": {
   "display_name": "Python 3",
   "language": "python",
   "name": "python3"
  },
  "language_info": {
   "codemirror_mode": {
    "name": "ipython",
    "version": 3
   },
   "file_extension": ".py",
   "mimetype": "text/x-python",
   "name": "python",
   "nbconvert_exporter": "python",
   "pygments_lexer": "ipython3",
   "version": "3.7.6"
  }
 },
 "nbformat": 4,
 "nbformat_minor": 5
}
