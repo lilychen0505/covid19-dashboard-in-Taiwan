{
 "cells": [
  {
   "cell_type": "code",
   "execution_count": 17,
   "id": "e3e517d9",
   "metadata": {},
   "outputs": [],
   "source": [
    "import pandas as pd\n",
    "from pandas import json_normalize\n",
    "import time\n",
    "import json\n",
    "import pygsheets\n",
    "import gspread\n",
    "from oauth2client.service_account import ServiceAccountCredentials as SAC\n",
    "from gspread_dataframe import get_as_dataframe, set_with_dataframe"
   ]
  },
  {
   "cell_type": "code",
   "execution_count": 18,
   "id": "78550349",
   "metadata": {},
   "outputs": [
    {
     "name": "stdout",
     "output_type": "stream",
     "text": [
      "  Province_State Country_Region        Date  Doses_admin  \\\n",
      "0            NaN    Afghanistan  2021-06-13       641295   \n",
      "1            NaN        Albania  2021-06-13       823053   \n",
      "2            NaN        Algeria  2021-06-13      2500000   \n",
      "3            NaN        Andorra  2021-06-13        41481   \n",
      "4            NaN         Angola  2021-06-13      1222630   \n",
      "\n",
      "   People_partially_vaccinated  People_fully_vaccinated Report_Date_String  \\\n",
      "0                     482952.0                 158343.0         2021/06/13   \n",
      "1                     498437.0                 324616.0         2021/06/13   \n",
      "2                    2500000.0                      0.0         2021/06/13   \n",
      "3                      30535.0                  10938.0         2021/06/13   \n",
      "4                     774926.0                 447704.0         2021/06/13   \n",
      "\n",
      "    UID  \n",
      "0   4.0  \n",
      "1   8.0  \n",
      "2  12.0  \n",
      "3  20.0  \n",
      "4  24.0  \n"
     ]
    }
   ],
   "source": [
    "url = 'https://raw.githubusercontent.com/govex/COVID-19/master/data_tables/vaccine_data/global_data/vaccine_data_global.csv'\n",
    "df = pd.read_csv(url)\n",
    "print(df.head())"
   ]
  },
  {
   "cell_type": "code",
   "execution_count": 19,
   "id": "fbf49d4b",
   "metadata": {},
   "outputs": [],
   "source": [
    "#儲存資料\n",
    "import time\n",
    "timestr = time.strftime(\"%Y%m%d\") \n",
    "df.to_csv('DATASHEETS_COVD19_5/COVID19_5_'+timestr+'.csv', encoding=\"utf_8_sig\")\n",
    "df.to_csv('DATASHEETS_COVD19_5/COVID19_5.csv', encoding=\"utf_8_sig\")"
   ]
  },
  {
   "cell_type": "code",
   "execution_count": 20,
   "id": "6fd9fad8",
   "metadata": {},
   "outputs": [],
   "source": [
    "df = df[df['Country_Region']=='Taiwan*']"
   ]
  },
  {
   "cell_type": "code",
   "execution_count": 21,
   "id": "9dbeac8d",
   "metadata": {},
   "outputs": [],
   "source": [
    "# google sheets authentication\n",
    "Json = './covid19.json'\n",
    "Url = ['https://spreadsheets.google.com/feeds']"
   ]
  },
  {
   "cell_type": "code",
   "execution_count": 22,
   "id": "0f25b092",
   "metadata": {},
   "outputs": [],
   "source": [
    "# 連線到資料表\n",
    "Connect = SAC.from_json_keyfile_name(Json, Url)\n",
    "GoogleSheets = gspread.authorize(Connect)"
   ]
  },
  {
   "cell_type": "code",
   "execution_count": 23,
   "id": "7d807f64",
   "metadata": {},
   "outputs": [],
   "source": [
    "# 開啟資料表及工作表\n",
    "Sheet = GoogleSheets.open_by_key('1BbbIITkHWizP25sj2AKMABiER4MP8H7AUKK2o3swpfQ')\n",
    "# Sheets = Sheet.sheet1"
   ]
  },
  {
   "cell_type": "code",
   "execution_count": 24,
   "id": "bcb4a994",
   "metadata": {},
   "outputs": [
    {
     "name": "stdout",
     "output_type": "stream",
     "text": [
      "[<Worksheet '工作表1' id:0>]\n"
     ]
    }
   ],
   "source": [
    "# 查看此 GoogleSheet 內 Sheet 清單\n",
    "wks_list = Sheet.worksheets()\n",
    "print(wks_list)"
   ]
  },
  {
   "cell_type": "code",
   "execution_count": 25,
   "id": "c568b860",
   "metadata": {},
   "outputs": [],
   "source": [
    "#選取by名稱\n",
    "worksheet = Sheet.sheet1"
   ]
  },
  {
   "cell_type": "code",
   "execution_count": 26,
   "id": "16433eaa",
   "metadata": {},
   "outputs": [
    {
     "name": "stdout",
     "output_type": "stream",
     "text": [
      "寫入成功\n"
     ]
    }
   ],
   "source": [
    "#寫入資料\n",
    "set_with_dataframe(worksheet, df)\n",
    "print(\"寫入成功\")"
   ]
  },
  {
   "cell_type": "code",
   "execution_count": null,
   "id": "2efc64cf",
   "metadata": {},
   "outputs": [],
   "source": []
  }
 ],
 "metadata": {
  "kernelspec": {
   "display_name": "Python 3",
   "language": "python",
   "name": "python3"
  },
  "language_info": {
   "codemirror_mode": {
    "name": "ipython",
    "version": 3
   },
   "file_extension": ".py",
   "mimetype": "text/x-python",
   "name": "python",
   "nbconvert_exporter": "python",
   "pygments_lexer": "ipython3",
   "version": "3.7.6"
  }
 },
 "nbformat": 4,
 "nbformat_minor": 5
}
